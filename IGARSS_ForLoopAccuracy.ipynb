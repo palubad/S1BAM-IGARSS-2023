{
 "cells": [
  {
   "cell_type": "code",
   "execution_count": 1,
   "id": "ef933f0d",
   "metadata": {},
   "outputs": [],
   "source": [
    "# Import Modules\n",
    "import matplotlib.pyplot as plt\n",
    "%matplotlib inline \n",
    "import pandas as pd\n",
    "import numpy as np\n",
    "from PIL import Image\n",
    "# import seaborn as sns\n",
    "from sklearn.metrics import f1_score\n",
    "from sklearn.metrics import precision_score\n",
    "from sklearn.metrics import recall_score\n",
    "from sklearn.metrics import confusion_matrix, ConfusionMatrixDisplay\n",
    "import ogr  # vector managment\n",
    "from sklearn.metrics import accuracy_score\n",
    "from sklearn.metrics import adjusted_mutual_info_score\n",
    "\n",
    "# Import raster modules and other geo modules\n",
    "import os\n",
    "from osgeo import gdal, gdal_array\n",
    "from osgeo import osr\n",
    "\n",
    "# Set your own PATH!!! \n",
    "PATH = 'YOUR_PATH'"
   ]
  },
  {
   "cell_type": "code",
   "execution_count": 2,
   "id": "83242f7f",
   "metadata": {},
   "outputs": [],
   "source": [
    "F1_score = []\n",
    "OA = []\n",
    "OE = []\n",
    "CE = []"
   ]
  },
  {
   "cell_type": "code",
   "execution_count": 15,
   "id": "e61e86bf",
   "metadata": {},
   "outputs": [],
   "source": [
    "image = os.path.join(PATH, 'YOUR_EXPORTED_IMAGE.tif')"
   ]
  },
  {
   "cell_type": "code",
   "execution_count": 17,
   "id": "3fc15d8b",
   "metadata": {
    "scrolled": false
   },
   "outputs": [
    {
     "name": "stdout",
     "output_type": "stream",
     "text": [
      "The image size is (836, 2014, 6)\n",
      "Reshaped from (836, 2014, 6) to (1683704, 1)\n"
     ]
    },
    {
     "data": {
      "text/plain": [
       "<matplotlib.colorbar.Colorbar at 0x1bd340a8700>"
      ]
     },
     "execution_count": 17,
     "metadata": {},
     "output_type": "execute_result"
    },
    {
     "data": {
      "image/png": "[encoded data removed]",
      "text/plain": [
       "<Figure size 432x288 with 2 Axes>"
      ]
     },
     "metadata": {
      "needs_background": "light"
     },
     "output_type": "display_data"
    }
   ],
   "source": [
    "\n",
    "loaded_image = gdal.Open(image)\n",
    "\n",
    "# if validation is None: \n",
    "#     print('Could not open {}'.format(fn)) \n",
    "#     sys.exit(1)\n",
    "\n",
    "# empty array for full image \n",
    "img_validation = np.zeros((loaded_image.RasterYSize, loaded_image.RasterXSize, loaded_image.RasterCount),\n",
    "               gdal_array.GDALTypeCodeToNumericTypeCode(loaded_image.GetRasterBand(loaded_image.RasterCount).DataType))\n",
    "# reading\n",
    "for b in range(img_validation.shape[2]):\n",
    "    img_validation[:, :, b] = loaded_image.GetRasterBand(b + 1).ReadAsArray()\n",
    "\n",
    "print('The image size is {}'.format(img_validation.shape))\n",
    "\n",
    "# take our full image, and reshape into long 2d array (nrow * ncol, nband) for e.g. classification\n",
    "new_shape = (img_validation.shape[0] * img_validation.shape[1], 1)\n",
    "\n",
    "# check the dimensionality \n",
    "validation_as_array = img_validation[:, :, loaded_image.RasterCount-1].reshape(new_shape)\n",
    "print('Reshaped from {o} to {n}'.format(o=img_validation.shape,\n",
    "                                        n=validation_as_array.shape))\n",
    "\n",
    "cols_data = loaded_image.RasterXSize\n",
    "rows_data = loaded_image.RasterYSize\n",
    "bands_data = loaded_image.RasterCount\n",
    "\n",
    "# Reshape the image back\n",
    "valid_backshape = validation_as_array.reshape(rows_data,cols_data,1)\n",
    "\n",
    "\n",
    "plt.imshow(img_validation[:,:,loaded_image.RasterCount-1], cmap='Reds', interpolation='none',vmin=0,\n",
    "    vmax=1)\n",
    "plt.colorbar()\n",
    "# img = Image.fromarray(valid_backshape)\n",
    "# img.save('proba_validation.tif')"
   ]
  },
  {
   "cell_type": "code",
   "execution_count": 18,
   "id": "8a2fe2a4",
   "metadata": {},
   "outputs": [
    {
     "data": {
      "text/plain": [
       "True"
      ]
     },
     "execution_count": 18,
     "metadata": {},
     "output_type": "execute_result"
    }
   ],
   "source": [
    "# Check if I have NaN values in validation data\n",
    "np.any(np.isnan(validation_as_array))"
   ]
  },
  {
   "cell_type": "code",
   "execution_count": 19,
   "id": "a73c55ad",
   "metadata": {},
   "outputs": [
    {
     "data": {
      "text/plain": [
       "False"
      ]
     },
     "execution_count": 19,
     "metadata": {},
     "output_type": "execute_result"
    }
   ],
   "source": [
    "# Check if my data contains infinity values in data\n",
    "np.all(np.isinf(validation_as_array))"
   ]
  },
  {
   "cell_type": "code",
   "execution_count": 20,
   "id": "4bbd0342",
   "metadata": {},
   "outputs": [],
   "source": [
    "# Change 0 to 99 and 1 to 100\n",
    "validation_df = pd.DataFrame(validation_as_array)"
   ]
  },
  {
   "cell_type": "code",
   "execution_count": 21,
   "id": "d3c87f3e",
   "metadata": {
    "scrolled": true
   },
   "outputs": [
    {
     "name": "stdout",
     "output_type": "stream",
     "text": [
      "1\n",
      "f1Score / OA:\n",
      " 68.66 / 84.73 \n",
      "omission_e / commission_e:\n",
      " 25.64 / 36.23\n",
      "2\n",
      "f1Score / OA:\n",
      " 72.56 / 88.01 \n",
      "omission_e / commission_e:\n",
      " 29.54 / 25.22\n",
      "3\n",
      "f1Score / OA:\n",
      " 73.83 / 89.05 \n",
      "omission_e / commission_e:\n",
      " 31.3 / 20.2\n",
      "4\n",
      "f1Score / OA:\n",
      " 74.5 / 89.48 \n",
      "omission_e / commission_e:\n",
      " 31.68 / 18.08\n",
      "5\n",
      "f1Score / OA:\n",
      " 75.06 / 89.8 \n",
      "omission_e / commission_e:\n",
      " 31.74 / 16.65\n"
     ]
    }
   ],
   "source": [
    "# empty array for full image \n",
    "img_ = np.zeros((loaded_image.RasterYSize, loaded_image.RasterXSize, loaded_image.RasterCount),\n",
    "               gdal_array.GDALTypeCodeToNumericTypeCode(loaded_image.GetRasterBand(2).DataType))\n",
    "# reading\n",
    "# for b in range(img_.shape[2]):\n",
    "#     img_[:, :, b] = image.GetRasterBand(b + 1).ReadAsArray()\n",
    "\n",
    "images = range(1,loaded_image.RasterCount)\n",
    "# print(images)\n",
    "for i in images:\n",
    "    \n",
    "    # athens = 6, evia = 5, olympia = 5\n",
    "    img_ = loaded_image.GetRasterBand(i).ReadAsArray()\n",
    "\n",
    "#     print('The image size is {}'.format(img_.shape))\n",
    "\n",
    "    # take our full image, and reshape into long 2d array (nrow * ncol, nband) for e.g. classification\n",
    "    new_shape = (img_.shape[0] * img_.shape[1],1)\n",
    "\n",
    "    # check the dimensionality \n",
    "    img_as_array = img_[:, :].reshape(new_shape)\n",
    "#     print('Reshaped from {o} to {n}'.format(o=img_.shape,\n",
    "#                                             n=img_as_array.shape))\n",
    "    \n",
    "    # clean memory \n",
    "    # validation = None\n",
    "\n",
    "    # Check if I have NaN values in validation data\n",
    "    np.any(np.isnan(img_as_array))\n",
    "\n",
    "    # Check if my data contains infinity values in data\n",
    "    np.all(np.isinf(validation_as_array))\n",
    "\n",
    "    img_df = pd.DataFrame(img_as_array)\n",
    "    # img_df\n",
    "\n",
    "    # Change NaN values to 999\n",
    "    cleared_data = np.nan_to_num(img_df, nan=999)\n",
    "    img_df = pd.DataFrame(cleared_data)\n",
    "    img_df\n",
    "    # Create a dataset without rows containing 999 values (values representing NaN values)\n",
    "    # These rows can strongly incluence various models for predicting the number of clusters, epsilon value, etc.\n",
    "\n",
    "    NaN_data = img_df.loc[img_df[0] == 999]\n",
    "    NaN_data\n",
    "    # Select only data not containing NaN values\n",
    "    prepared_data = img_df[img_df[0] != 999]\n",
    "    prepared_data\n",
    "\n",
    "    # Save their indexes for reshaping the results\n",
    "    prepared_data_index = prepared_data.index\n",
    "    NaN_data_index = NaN_data.index\n",
    "\n",
    "    validation_df = pd.DataFrame(validation_as_array)\n",
    "    # validation_df\n",
    "\n",
    "    # Select only data not containing NaN values\n",
    "    prepared_validation = validation_df.iloc[prepared_data_index]\n",
    "    # prepared_validation\n",
    "\n",
    "    accuracy_K = accuracy_score(prepared_validation, prepared_data)*100\n",
    "    cm = confusion_matrix(prepared_validation, prepared_data)\n",
    "    # omission_e = cm[1,0]/(cm[1,0]+cm[1,1])*100\n",
    "    # commission_e = cm[0,1]/(cm[1,1]+cm[0,1])*100\n",
    "    f1Score = f1_score(prepared_validation, prepared_data, pos_label=1, average='binary')*100\n",
    "    commission = (1-(precision_score(prepared_validation, prepared_data,pos_label=1)))*100\n",
    "    omission = (1-(recall_score(prepared_validation, prepared_data,pos_label=1)))*100\n",
    "    \n",
    "    F1_score.append(f1Score)\n",
    "    OA.append(accuracy_K)\n",
    "    OE.append(omission)\n",
    "    CE.append(commission)\n",
    "    \n",
    "    # print('accuracy: ',round(accuracy_K,2),'\\nomission_e:',round(omission_e,2),'\\ncommission_e:',round(commission_e,2),'\\nf1Score:',round(f1Score,2))\n",
    "    # print('f1Score / OA:\\n',round(f1Score,2),'/',round(accuracy_K,2),'\\nomission_e / commission_e:\\n', round(omission_e,2),'/',round(commission_e,2))\n",
    "    print(i)\n",
    "    print('f1Score / OA:\\n',round(f1Score,2),'/',round(accuracy_K,2),'\\nomission_e / commission_e:\\n', round(omission,2),'/',round(commission,2))\n",
    "\n",
    "    # print(precision,recall)"
   ]
  },
  {
   "cell_type": "code",
   "execution_count": null,
   "id": "9c43f923",
   "metadata": {},
   "outputs": [],
   "source": []
  },
  {
   "cell_type": "code",
   "execution_count": 22,
   "id": "790dad91",
   "metadata": {},
   "outputs": [
    {
     "name": "stdout",
     "output_type": "stream",
     "text": [
      "[28.737124980600687, 68.65877360755131, 72.5561621084052, 73.83259276617606, 74.50083828684652, 75.05551602626656]\n",
      "[67.96448045629518, 84.73466221707895, 88.01370831733045, 89.0500666620989, 89.4836688858032, 89.79689589083634]\n",
      "[77.0923675951609, 25.64445165005339, 29.540232455429273, 31.30489229788733, 31.68337311947583, 31.739837761987555]\n",
      "[61.45367692172846, 36.227200368246415, 25.218869503045337, 20.19937654240811, 18.0838869262688, 16.646584768933014]\n"
     ]
    }
   ],
   "source": [
    "print(F1_score)\n",
    "print(OA)\n",
    "\n",
    "print(OE)\n",
    "print(CE)"
   ]
  },
  {
   "cell_type": "code",
   "execution_count": 23,
   "id": "e6b74048",
   "metadata": {},
   "outputs": [],
   "source": [
    "# create labels for the table\n",
    "labelsForTable = []\n",
    "maxRange = 71\n",
    "\n",
    "for i in range(3,maxRange+2,2):\n",
    "    labelsForTable.append(str(i)+'x'+str(i))\n",
    "\n",
    "# labelsForTable"
   ]
  },
  {
   "cell_type": "code",
   "execution_count": 26,
   "id": "1d04b37c",
   "metadata": {},
   "outputs": [],
   "source": [
    "# create the final table and export\n",
    "table = pd.DataFrame(list(zip(labelsForTable, F1_score, OA, OE, CE)),\n",
    "               columns =['speckle kernel window size','F1', 'OA','OE','CE'])"
   ]
  },
  {
   "cell_type": "code",
   "execution_count": 27,
   "id": "4415f8c6",
   "metadata": {},
   "outputs": [
    {
     "data": {
      "text/html": [
       "<div>\n",
       "<style scoped>\n",
       "    .dataframe tbody tr th:only-of-type {\n",
       "        vertical-align: middle;\n",
       "    }\n",
       "\n",
       "    .dataframe tbody tr th {\n",
       "        vertical-align: top;\n",
       "    }\n",
       "\n",
       "    .dataframe thead th {\n",
       "        text-align: right;\n",
       "    }\n",
       "</style>\n",
       "<table border=\"1\" class=\"dataframe\">\n",
       "  <thead>\n",
       "    <tr style=\"text-align: right;\">\n",
       "      <th></th>\n",
       "      <th>speckle kernel window size</th>\n",
       "      <th>F1</th>\n",
       "      <th>OA</th>\n",
       "      <th>OE</th>\n",
       "      <th>CE</th>\n",
       "    </tr>\n",
       "  </thead>\n",
       "  <tbody>\n",
       "    <tr>\n",
       "      <th>0</th>\n",
       "      <td>3x3</td>\n",
       "      <td>28.737125</td>\n",
       "      <td>67.964480</td>\n",
       "      <td>77.092368</td>\n",
       "      <td>61.453677</td>\n",
       "    </tr>\n",
       "    <tr>\n",
       "      <th>1</th>\n",
       "      <td>5x5</td>\n",
       "      <td>68.658774</td>\n",
       "      <td>84.734662</td>\n",
       "      <td>25.644452</td>\n",
       "      <td>36.227200</td>\n",
       "    </tr>\n",
       "    <tr>\n",
       "      <th>2</th>\n",
       "      <td>7x7</td>\n",
       "      <td>72.556162</td>\n",
       "      <td>88.013708</td>\n",
       "      <td>29.540232</td>\n",
       "      <td>25.218870</td>\n",
       "    </tr>\n",
       "    <tr>\n",
       "      <th>3</th>\n",
       "      <td>9x9</td>\n",
       "      <td>73.832593</td>\n",
       "      <td>89.050067</td>\n",
       "      <td>31.304892</td>\n",
       "      <td>20.199377</td>\n",
       "    </tr>\n",
       "    <tr>\n",
       "      <th>4</th>\n",
       "      <td>11x11</td>\n",
       "      <td>74.500838</td>\n",
       "      <td>89.483669</td>\n",
       "      <td>31.683373</td>\n",
       "      <td>18.083887</td>\n",
       "    </tr>\n",
       "    <tr>\n",
       "      <th>5</th>\n",
       "      <td>13x13</td>\n",
       "      <td>75.055516</td>\n",
       "      <td>89.796896</td>\n",
       "      <td>31.739838</td>\n",
       "      <td>16.646585</td>\n",
       "    </tr>\n",
       "  </tbody>\n",
       "</table>\n",
       "</div>"
      ],
      "text/plain": [
       "  speckle kernel window size         F1         OA         OE         CE\n",
       "0                        3x3  28.737125  67.964480  77.092368  61.453677\n",
       "1                        5x5  68.658774  84.734662  25.644452  36.227200\n",
       "2                        7x7  72.556162  88.013708  29.540232  25.218870\n",
       "3                        9x9  73.832593  89.050067  31.304892  20.199377\n",
       "4                      11x11  74.500838  89.483669  31.683373  18.083887\n",
       "5                      13x13  75.055516  89.796896  31.739838  16.646585"
      ]
     },
     "execution_count": 27,
     "metadata": {},
     "output_type": "execute_result"
    }
   ],
   "source": [
    "table"
   ]
  },
  {
   "cell_type": "code",
   "execution_count": 14,
   "id": "facffec9",
   "metadata": {},
   "outputs": [],
   "source": [
    "table.to_csv('Speckle_tuning_results.csv')"
   ]
  }
 ],
 "metadata": {
  "kernelspec": {
   "display_name": "Python 3 (ipykernel)",
   "language": "python",
   "name": "python3"
  },
  "language_info": {
   "codemirror_mode": {
    "name": "ipython",
    "version": 3
   },
   "file_extension": ".py",
   "mimetype": "text/x-python",
   "name": "python",
   "nbconvert_exporter": "python",
   "pygments_lexer": "ipython3",
   "version": "3.9.7"
  }
 },
 "nbformat": 4,
 "nbformat_minor": 5
}
